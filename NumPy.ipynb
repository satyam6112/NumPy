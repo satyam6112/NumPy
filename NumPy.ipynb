{
  "nbformat": 4,
  "nbformat_minor": 0,
  "metadata": {
    "colab": {
      "provenance": [],
      "mount_file_id": "1G28CizZ-7Q4_7ydBpsuGY3pQ-3JWqlSU",
      "authorship_tag": "ABX9TyN5sK85JUy+2JUCSHanpEVW",
      "include_colab_link": true
    },
    "kernelspec": {
      "name": "python3",
      "display_name": "Python 3"
    },
    "language_info": {
      "name": "python"
    }
  },
  "cells": [
    {
      "cell_type": "markdown",
      "metadata": {
        "id": "view-in-github",
        "colab_type": "text"
      },
      "source": [
        "<a href=\"https://colab.research.google.com/github/satyam6112/NumPy/blob/main/NumPy.ipynb\" target=\"_parent\"><img src=\"https://colab.research.google.com/assets/colab-badge.svg\" alt=\"Open In Colab\"/></a>"
      ]
    },
    {
      "cell_type": "code",
      "execution_count": null,
      "metadata": {
        "colab": {
          "base_uri": "https://localhost:8080/"
        },
        "id": "pbM6jH3uAVqB",
        "outputId": "a179ede2-cdef-486f-ad68-4416f7e78d6c"
      },
      "outputs": [
        {
          "output_type": "stream",
          "name": "stdout",
          "text": [
            "Requirement already satisfied: numpy in /usr/local/lib/python3.11/dist-packages (2.0.2)\n"
          ]
        }
      ],
      "source": [
        "pip install numpy"
      ]
    },
    {
      "cell_type": "code",
      "source": [
        "import numpy as np\n"
      ],
      "metadata": {
        "id": "ELe7y-5dAfZv"
      },
      "execution_count": null,
      "outputs": []
    },
    {
      "cell_type": "code",
      "source": [
        "#creating array from list :\n",
        "array1d = np.array([1,2,3])\n",
        "print(\"1D Array is : \" , array1d)"
      ],
      "metadata": {
        "colab": {
          "base_uri": "https://localhost:8080/"
        },
        "id": "Us-84wM8AyGL",
        "outputId": "88717c50-5429-4f1f-ad82-a7aea779a00c"
      },
      "execution_count": null,
      "outputs": [
        {
          "output_type": "stream",
          "name": "stdout",
          "text": [
            "1D Array is :  [1 2 3]\n"
          ]
        }
      ]
    },
    {
      "cell_type": "code",
      "source": [
        "array2D = np.array([[1,2,3] , [4,5,6]])\n",
        "print(\"2D array is :\" , array2D)"
      ],
      "metadata": {
        "colab": {
          "base_uri": "https://localhost:8080/"
        },
        "id": "sL1zVzoqBbfn",
        "outputId": "2d9f9786-249a-4e19-e2e3-31524a5df0df"
      },
      "execution_count": null,
      "outputs": [
        {
          "output_type": "stream",
          "name": "stdout",
          "text": [
            "2D array is : [[1 2 3]\n",
            " [4 5 6]]\n"
          ]
        }
      ]
    },
    {
      "cell_type": "code",
      "source": [
        "list = [1,2,3]\n",
        "print(\" list multiplication is :\" , list*2)"
      ],
      "metadata": {
        "colab": {
          "base_uri": "https://localhost:8080/"
        },
        "id": "yONCOLYoB3US",
        "outputId": "8489f88b-684f-4256-9acb-0a9e655267fd"
      },
      "execution_count": null,
      "outputs": [
        {
          "output_type": "stream",
          "name": "stdout",
          "text": [
            " list multiplication is : [1, 2, 3, 1, 2, 3]\n"
          ]
        }
      ]
    },
    {
      "cell_type": "code",
      "source": [
        "array = np.array([1,2,3])\n",
        "print(\"array multiplication is :\" , array*2)"
      ],
      "metadata": {
        "colab": {
          "base_uri": "https://localhost:8080/"
        },
        "id": "8ddwve-7DQNQ",
        "outputId": "0a9701ae-47fd-4707-b36a-59f26778b750"
      },
      "execution_count": null,
      "outputs": [
        {
          "output_type": "stream",
          "name": "stdout",
          "text": [
            "array multiplication is : [2 4 6]\n"
          ]
        }
      ]
    },
    {
      "cell_type": "code",
      "source": [
        "import time"
      ],
      "metadata": {
        "id": "vXQwG2iMDXTA"
      },
      "execution_count": null,
      "outputs": []
    },
    {
      "cell_type": "code",
      "source": [
        "start = time.time()\n",
        "py_list = [ i*2  for i in range(1000000)]\n",
        "\n",
        "print(\"\\n List opperation time : \" , time.time()-start)\n",
        "\n",
        "start = time.time()\n",
        "np_array = np.arange(1000000)*2\n",
        "print(\"\\n numpy  opperation time : \" , time.time()-start)"
      ],
      "metadata": {
        "colab": {
          "base_uri": "https://localhost:8080/"
        },
        "id": "QGVIVaIbDe2t",
        "outputId": "ea6cebef-a11a-4bf3-f873-67cb162ca624"
      },
      "execution_count": null,
      "outputs": [
        {
          "output_type": "stream",
          "name": "stdout",
          "text": [
            "\n",
            " List opperation time :  0.11948466300964355\n",
            "\n",
            " numpy  opperation time :  0.005745410919189453\n"
          ]
        }
      ]
    },
    {
      "cell_type": "code",
      "source": [
        "random = np.random.random((2,2))\n",
        "print(\" \\n random array is : \\n  \" , random)\n",
        "one = np.ones((2,3))\n",
        "print(\" \\n one array is \\n \" , one)\n",
        "full = np.full((2,3) , 5)\n",
        "print(\" \\n full array is \\n \" , full)\n",
        "\n",
        "sequence = np.arange(0,11,2)\n",
        "print(\" \\n squence array is \\n \" , sequence)"
      ],
      "metadata": {
        "colab": {
          "base_uri": "https://localhost:8080/"
        },
        "id": "RFO7y05CGYvp",
        "outputId": "e858391a-fefd-4be7-98ca-0d36d853d2fc"
      },
      "execution_count": null,
      "outputs": [
        {
          "output_type": "stream",
          "name": "stdout",
          "text": [
            " \n",
            " random array is : \n",
            "   [[0.84145504 0.63899454]\n",
            " [0.31091994 0.51831822]]\n",
            " \n",
            " one array is \n",
            "  [[1. 1. 1.]\n",
            " [1. 1. 1.]]\n",
            " \n",
            " full array is \n",
            "  [[5 5 5]\n",
            " [5 5 5]]\n",
            " \n",
            " squence array is \n",
            "  [ 0  2  4  6  8 10]\n"
          ]
        }
      ]
    },
    {
      "cell_type": "markdown",
      "source": [
        "VEctor , matrices , tensor"
      ],
      "metadata": {
        "id": "lj4B8fOOIcIf"
      }
    },
    {
      "cell_type": "code",
      "source": [
        "vector = np.array([1,2,3,4])\n",
        "print(\"\\n Vector is : \" , vector)\n",
        "matrices = np.array([[1,2,3],\n",
        "                     [4,5,6],\n",
        "                     [7,8,9]])\n",
        "print(\"\\n  Matrices is :\" , matrices)\n",
        "\n"
      ],
      "metadata": {
        "colab": {
          "base_uri": "https://localhost:8080/"
        },
        "id": "cO0vpKYcG-Z6",
        "outputId": "1fc03a75-2f14-45ef-979a-f0ad46714a37"
      },
      "execution_count": null,
      "outputs": [
        {
          "output_type": "stream",
          "name": "stdout",
          "text": [
            "\n",
            " Vector is :  [1 2 3 4]\n",
            "\n",
            "  Matrices is : [[1 2 3]\n",
            " [4 5 6]\n",
            " [7 8 9]]\n"
          ]
        }
      ]
    },
    {
      "cell_type": "markdown",
      "source": [
        "Array Properties"
      ],
      "metadata": {
        "id": "wrYejBAxJegL"
      }
    },
    {
      "cell_type": "code",
      "source": [
        "arr = np.array([[1,2,3],\n",
        "               [4,5,6]])\n",
        "\n",
        "print(\"Shape : \", arr.shape)\n",
        "print(\"\\n dimension : \" , arr.ndim)\n",
        "print(\"\\n size: \" , arr.size)\n",
        "print(\"\\n DType :  \" , arr.dtype)\n"
      ],
      "metadata": {
        "colab": {
          "base_uri": "https://localhost:8080/"
        },
        "id": "Y77aBjUlJOA8",
        "outputId": "691ac1cf-2d09-43f4-c150-731a2e6ee770"
      },
      "execution_count": null,
      "outputs": [
        {
          "output_type": "stream",
          "name": "stdout",
          "text": [
            "Shape :  (2, 3)\n",
            "\n",
            " dimension :  2\n",
            "\n",
            " size:  6\n",
            "\n",
            " DType :   int64\n"
          ]
        }
      ]
    },
    {
      "cell_type": "markdown",
      "source": [
        "array reshaping"
      ],
      "metadata": {
        "id": "-qPHNkFaOQaC"
      }
    },
    {
      "cell_type": "code",
      "source": [
        "arr = np.arange(12)\n",
        "print(arr)\n",
        "reshape = arr.reshape(3,4)\n",
        "print(reshape)\n",
        "flatened = arr.flatten()\n",
        "print(flatened)\n",
        "ravel = arr.ravel()\n",
        "print(ravel)\n",
        "transpose = arr.transpose()\n",
        "print(transpose)"
      ],
      "metadata": {
        "colab": {
          "base_uri": "https://localhost:8080/"
        },
        "id": "pl6Z03XXMqzi",
        "outputId": "e569ff59-b922-45c2-ed68-6ffca2869a7e"
      },
      "execution_count": null,
      "outputs": [
        {
          "output_type": "stream",
          "name": "stdout",
          "text": [
            "[ 0  1  2  3  4  5  6  7  8  9 10 11]\n",
            "[[ 0  1  2  3]\n",
            " [ 4  5  6  7]\n",
            " [ 8  9 10 11]]\n",
            "[ 0  1  2  3  4  5  6  7  8  9 10 11]\n",
            "[ 0  1  2  3  4  5  6  7  8  9 10 11]\n",
            "[ 0  1  2  3  4  5  6  7  8  9 10 11]\n"
          ]
        }
      ]
    },
    {
      "cell_type": "markdown",
      "source": [
        "##array operation"
      ],
      "metadata": {
        "id": "kwgD50tUY4fq"
      }
    },
    {
      "cell_type": "code",
      "source": [
        "arr = np.array([1,2,3,4,5,6,7,8,9])\n",
        "print(\"slice : \" , arr[1:2])\n",
        "print(\"slice with step : \" ,arr[1:8:2])\n",
        "print(\"negative sliceing :\" , arr[-5:-3])"
      ],
      "metadata": {
        "colab": {
          "base_uri": "https://localhost:8080/"
        },
        "id": "Q3uHxkCTOYTh",
        "outputId": "de0f0c14-6ac6-4533-c3de-5e0b8fcdeb26"
      },
      "execution_count": null,
      "outputs": [
        {
          "output_type": "stream",
          "name": "stdout",
          "text": [
            "slice :  [2]\n",
            "slice with step :  [2 4 6 8]\n",
            "negative sliceing : [5 6]\n"
          ]
        }
      ]
    },
    {
      "cell_type": "code",
      "source": [
        "arr = np.array([[1,2,3],\n",
        "                [4,5,6],\n",
        "                [7,8,9]])\n",
        "print(\"specific element : \" , arr[1,2])\n",
        "print(\"specific row : \" , arr[2])\n",
        "print(\"specific column : \" , arr[:,0])"
      ],
      "metadata": {
        "colab": {
          "base_uri": "https://localhost:8080/"
        },
        "id": "OUdWI1LnZiLj",
        "outputId": "5bf046f1-f107-4ce5-f719-838019667ada"
      },
      "execution_count": null,
      "outputs": [
        {
          "output_type": "stream",
          "name": "stdout",
          "text": [
            "specific element :  6\n",
            "specific row :  [7 8 9]\n",
            "specific column :  [1 4 7]\n"
          ]
        }
      ]
    },
    {
      "cell_type": "code",
      "source": [
        "arr = np.arange(12)\n",
        "print(arr)"
      ],
      "metadata": {
        "id": "HIAxAV-CafxE",
        "colab": {
          "base_uri": "https://localhost:8080/"
        },
        "outputId": "896387a6-8f67-4497-d422-dec7ab2b800e"
      },
      "execution_count": null,
      "outputs": [
        {
          "output_type": "stream",
          "name": "stdout",
          "text": [
            "[ 0  1  2  3  4  5  6  7  8  9 10 11]\n"
          ]
        }
      ]
    },
    {
      "cell_type": "code",
      "source": [
        "a = arr[2:3]\n",
        "print(a)"
      ],
      "metadata": {
        "colab": {
          "base_uri": "https://localhost:8080/"
        },
        "id": "FmSMv0N3p8ls",
        "outputId": "5b3f27c5-3a47-4ace-f7cd-c57d8b998a1b"
      },
      "execution_count": null,
      "outputs": [
        {
          "output_type": "stream",
          "name": "stdout",
          "text": [
            "[2]\n"
          ]
        }
      ]
    },
    {
      "cell_type": "markdown",
      "source": [
        "##sort"
      ],
      "metadata": {
        "id": "KKT5dHHA61vv"
      }
    },
    {
      "cell_type": "code",
      "source": [
        "unsorted = np.array([1,2,45,1,5,5,3,1,785,35])\n",
        "print(\"sorted array is \" , np.sort(unsorted))"
      ],
      "metadata": {
        "id": "1mTK2KgqqKXu",
        "colab": {
          "base_uri": "https://localhost:8080/"
        },
        "outputId": "6c90e23b-49cb-4fbe-e720-9281fc64446b"
      },
      "execution_count": null,
      "outputs": [
        {
          "output_type": "stream",
          "name": "stdout",
          "text": [
            "sorted array is  [  1   1   1   2   3   5   5  35  45 785]\n"
          ]
        }
      ]
    },
    {
      "cell_type": "code",
      "source": [
        "array_2D = np.array([[1,5,3] ,\n",
        "                     [6,4,7],\n",
        "                     [8,5,2]])\n",
        "print(\"sort 2d array column wise \" , np.sort(array_2D , axis=0))\n",
        "print(\"2D array sort in row wise \" , np.sort(array_2D , axis=1))"
      ],
      "metadata": {
        "colab": {
          "base_uri": "https://localhost:8080/"
        },
        "id": "_kn7M9523iGG",
        "outputId": "dff513cd-8bf1-4720-9758-7310014f037d"
      },
      "execution_count": null,
      "outputs": [
        {
          "output_type": "stream",
          "name": "stdout",
          "text": [
            "2D array sort in row wise  [[1 3 5]\n",
            " [4 6 7]\n",
            " [2 5 8]]\n"
          ]
        }
      ]
    },
    {
      "cell_type": "markdown",
      "source": [
        "##Filter"
      ],
      "metadata": {
        "id": "D-hqnNc06qDs"
      }
    },
    {
      "cell_type": "code",
      "source": [
        "array = np.array([1,2,3,4,5,6,7,8,9,65])\n",
        "evenNumber = array[array%2==0]\n",
        "print(\"even number : \" , evenNumber)"
      ],
      "metadata": {
        "colab": {
          "base_uri": "https://localhost:8080/"
        },
        "id": "9NyiM8Wu6Tnf",
        "outputId": "c77c3c07-8992-4d5f-db74-934281de478f"
      },
      "execution_count": null,
      "outputs": [
        {
          "output_type": "stream",
          "name": "stdout",
          "text": [
            "even number :  [2 4 6 8]\n"
          ]
        }
      ]
    },
    {
      "cell_type": "markdown",
      "source": [
        "fillter with mask"
      ],
      "metadata": {
        "id": "OB7SQ0CU8J0b"
      }
    },
    {
      "cell_type": "code",
      "source": [
        "num = np.arange(10)\n",
        "mask = num > 4\n",
        "print(num[mask])\n"
      ],
      "metadata": {
        "colab": {
          "base_uri": "https://localhost:8080/"
        },
        "id": "EQJF5dvB8CuU",
        "outputId": "5037d782-e1c5-4877-b55b-46a75aff50f9"
      },
      "execution_count": null,
      "outputs": [
        {
          "output_type": "stream",
          "name": "stdout",
          "text": [
            "[5 6 7 8 9]\n"
          ]
        }
      ]
    },
    {
      "cell_type": "markdown",
      "source": [
        "##FANCY indexing Vs np.where()"
      ],
      "metadata": {
        "id": "y0HxrvBD81d1"
      }
    },
    {
      "cell_type": "code",
      "source": [
        "indices = [0,2,4]\n",
        "print(num[indices])\n",
        "\n",
        "where_result = np.where(num > 4)\n",
        "print(where_result)\n",
        "print(num[where_result])\n"
      ],
      "metadata": {
        "colab": {
          "base_uri": "https://localhost:8080/"
        },
        "id": "h5ufxF_18qCs",
        "outputId": "dfac75d5-5566-47a0-81ca-000a9852ae14"
      },
      "execution_count": null,
      "outputs": [
        {
          "output_type": "stream",
          "name": "stdout",
          "text": [
            "[0 2 4]\n",
            "(array([5, 6, 7, 8, 9]),)\n",
            "[5 6 7 8 9]\n"
          ]
        }
      ]
    },
    {
      "cell_type": "code",
      "source": [
        "condition_array = np.where(num  ==5  , num*5 , num * 2)\n",
        "print(condition_array)"
      ],
      "metadata": {
        "colab": {
          "base_uri": "https://localhost:8080/"
        },
        "id": "FzCWbwbO9yEJ",
        "outputId": "5ef0c0b2-bc55-404f-d2fa-4b10c4e1c2e9"
      },
      "execution_count": null,
      "outputs": [
        {
          "output_type": "stream",
          "name": "stdout",
          "text": [
            "[ 0  2  4  6  8 25 12 14 16 18]\n"
          ]
        }
      ]
    },
    {
      "cell_type": "markdown",
      "source": [
        "#adding and removing data"
      ],
      "metadata": {
        "id": "YVAesQHTHkqU"
      }
    },
    {
      "cell_type": "code",
      "source": [
        "array1 = np.array([1,2,3,4])\n",
        "array2 = np.array([5,6,7,8])\n",
        "print(np.concatenate((array1 , array2)))"
      ],
      "metadata": {
        "colab": {
          "base_uri": "https://localhost:8080/"
        },
        "id": "c9e3xlMBHheU",
        "outputId": "58c66447-93f3-4459-e618-dde1d418f6fd"
      },
      "execution_count": null,
      "outputs": [
        {
          "output_type": "stream",
          "name": "stdout",
          "text": [
            "[1 2 3 4 5 6 7 8]\n"
          ]
        }
      ]
    },
    {
      "cell_type": "markdown",
      "source": [
        "compatibility of an array"
      ],
      "metadata": {
        "id": "crXIVdq3I5Bu"
      }
    },
    {
      "cell_type": "code",
      "source": [
        "a= np.array([1,2,3,4])\n",
        "b= np.array([2,4,5])\n",
        "print(\"compatibility\" , a.shape == b.shape)"
      ],
      "metadata": {
        "colab": {
          "base_uri": "https://localhost:8080/"
        },
        "id": "9RzAM3ux_v0f",
        "outputId": "ad44728b-1913-4dbf-9cda-e63ee0cdafd1"
      },
      "execution_count": null,
      "outputs": [
        {
          "output_type": "stream",
          "name": "stdout",
          "text": [
            "compatibility False\n"
          ]
        }
      ]
    },
    {
      "cell_type": "code",
      "source": [
        "original_array = np.array([[1,2],\n",
        "                           [3,4]])\n",
        "new_row = np.array([5,6])\n",
        "print(np.vstack((original_array , new_row)))"
      ],
      "metadata": {
        "colab": {
          "base_uri": "https://localhost:8080/"
        },
        "id": "Gn8yZ07VJT-J",
        "outputId": "7c13e9c6-dc77-4cba-d1a3-8b523a747c36"
      },
      "execution_count": null,
      "outputs": [
        {
          "output_type": "stream",
          "name": "stdout",
          "text": [
            "[[1 2]\n",
            " [3 4]\n",
            " [5 6]]\n"
          ]
        }
      ]
    },
    {
      "cell_type": "code",
      "source": [
        "new_col = np.array([[12],[43]])\n",
        "print(np.hstack((original_array ,new_col)))\n"
      ],
      "metadata": {
        "colab": {
          "base_uri": "https://localhost:8080/"
        },
        "id": "YcV-rF4KK7vK",
        "outputId": "18cbb410-b6df-43cc-c26f-24733193b156"
      },
      "execution_count": null,
      "outputs": [
        {
          "output_type": "stream",
          "name": "stdout",
          "text": [
            "[[ 1  2 12]\n",
            " [ 3  4 43]]\n"
          ]
        }
      ]
    },
    {
      "cell_type": "code",
      "source": [
        "array = np.array([1,2,3,4,5])\n",
        "deleted = np.delete(array , 2)\n",
        "print(deleted)"
      ],
      "metadata": {
        "colab": {
          "base_uri": "https://localhost:8080/"
        },
        "id": "wlzPTji8MTCw",
        "outputId": "8f489535-bee1-4375-97f6-3d29f7580958"
      },
      "execution_count": null,
      "outputs": [
        {
          "output_type": "stream",
          "name": "stdout",
          "text": [
            "[1 2 4 5]\n"
          ]
        }
      ]
    },
    {
      "cell_type": "code",
      "source": [
        "import matplotlib.pyplot as plt"
      ],
      "metadata": {
        "id": "SS5NDx6MS2zj"
      },
      "execution_count": null,
      "outputs": []
    },
    {
      "cell_type": "markdown",
      "source": [
        "## phase three analysis on zomato data sale"
      ],
      "metadata": {
        "id": "NLupE10yeWlP"
      }
    },
    {
      "cell_type": "code",
      "source": [
        "# Data structure: [restaurant_id, 2021, 2022, 2023, 2024]\n",
        "sales_data = np.array([\n",
        "    [1, 150000, 180000, 220000, 250000],  # Paradise Biryani\n",
        "    [2, 120000, 140000, 160000, 190000],  # Beijing Bites\n",
        "    [3, 200000, 230000, 260000, 300000],  # Pizza Hub\n",
        "    [4, 180000, 210000, 240000, 270000],  # Burger Point\n",
        "    [5, 160000, 185000, 205000, 230000]   # Chai Point\n",
        "])\n",
        "\n",
        "print(\"-----Zomato Sales Analysis-----\")\n",
        "print(\" \\n Sales data shape \" , sales_data.shape)\n",
        "print(\"\\n sample data for 1st 3 restaurent : \", sales_data[:3])\n"
      ],
      "metadata": {
        "colab": {
          "base_uri": "https://localhost:8080/"
        },
        "id": "2UXkPJvwc41c",
        "outputId": "913cdd08-d708-4404-bca8-09c535c6f3a7"
      },
      "execution_count": null,
      "outputs": [
        {
          "output_type": "stream",
          "name": "stdout",
          "text": [
            "-----Zomato Sales Analysis-----\n",
            " \n",
            " Sales data shape  (5, 5)\n",
            "\n",
            " sample data for 1st 3 restaurent :  [[     1 150000 180000 220000 250000]\n",
            " [     2 120000 140000 160000 190000]\n",
            " [     3 200000 230000 260000 300000]]\n"
          ]
        }
      ]
    },
    {
      "cell_type": "markdown",
      "source": [],
      "metadata": {
        "id": "C8yaQdy-d2iU"
      }
    },
    {
      "cell_type": "markdown",
      "source": [
        "total sales per year\n"
      ],
      "metadata": {
        "id": "io2SHr69gqo3"
      }
    },
    {
      "cell_type": "code",
      "source": [
        "print(np.sum(sales_data, axis= 0))\n",
        "yearly_total = np.sum(sales_data[:,1:] , axis =1)\n",
        "print(yearly_total)"
      ],
      "metadata": {
        "colab": {
          "base_uri": "https://localhost:8080/"
        },
        "id": "HIOWG_fodUQL",
        "outputId": "6334b652-6865-4c8d-a4ea-214a2eb8813f"
      },
      "execution_count": null,
      "outputs": [
        {
          "output_type": "stream",
          "name": "stdout",
          "text": [
            "[     15  810000  945000 1085000 1240000]\n",
            "[800000 610000 990000 900000 780000]\n"
          ]
        }
      ]
    },
    {
      "cell_type": "markdown",
      "source": [
        "minimum sales per year\n"
      ],
      "metadata": {
        "id": "vMO3dFeyhnK_"
      }
    },
    {
      "cell_type": "code",
      "source": [
        "min_sales = np.min(sales_data[:,1:] , axis=1)\n",
        "print(min_sales)"
      ],
      "metadata": {
        "colab": {
          "base_uri": "https://localhost:8080/"
        },
        "id": "Qi26wx-LhNOo",
        "outputId": "475621ae-e789-44d4-fb66-f17236509bab"
      },
      "execution_count": null,
      "outputs": [
        {
          "output_type": "stream",
          "name": "stdout",
          "text": [
            "[150000 120000 200000 180000 160000]\n"
          ]
        }
      ]
    },
    {
      "cell_type": "markdown",
      "source": [
        "maximum sales per year"
      ],
      "metadata": {
        "id": "tYeyS8_ViNNh"
      }
    },
    {
      "cell_type": "code",
      "source": [
        "max_sale = np.max(sales_data[:,1:], axis = 0)\n",
        "print(\"maximum sale per year is :\" , max_sale)"
      ],
      "metadata": {
        "colab": {
          "base_uri": "https://localhost:8080/"
        },
        "id": "VcIzNqvEiE1N",
        "outputId": "280a49c6-c738-45be-b03c-31e91b491cad"
      },
      "execution_count": null,
      "outputs": [
        {
          "output_type": "stream",
          "name": "stdout",
          "text": [
            "maximum sale per year is : [200000 230000 260000 300000]\n"
          ]
        }
      ]
    },
    {
      "cell_type": "markdown",
      "source": [
        "Average saales per restaurent"
      ],
      "metadata": {
        "id": "-Qt_ANm_i96y"
      }
    },
    {
      "cell_type": "code",
      "source": [
        "avg_sale = np.average(sales_data[:,1:] , axis = 1 )\n",
        "print(\"Average Sale of restaurent is : \" , avg_sale)"
      ],
      "metadata": {
        "colab": {
          "base_uri": "https://localhost:8080/"
        },
        "id": "KNAyCdCtikXb",
        "outputId": "48228365-04f3-4008-94e0-da6082736e11"
      },
      "execution_count": null,
      "outputs": [
        {
          "output_type": "stream",
          "name": "stdout",
          "text": [
            "Average Sale of restaurent is :  [200000. 152500. 247500. 225000. 195000.]\n"
          ]
        }
      ]
    },
    {
      "cell_type": "code",
      "source": [
        "cumsum = np.cumsum(sales_data[:,1:], axis = 1)\n",
        "print(cumsum)\n",
        "plt.figure(figsize=(8,6))\n",
        "plt.plot(np.mean(cumsum , axis=0))\n",
        "plt.title(\"Cumulative Sales Over Years\")\n",
        "plt.xlabel(\"Years\")\n",
        "plt.ylabel(\"Cumulative Sales\")\n",
        "plt.grid(True)\n",
        "plt.show()"
      ],
      "metadata": {
        "colab": {
          "base_uri": "https://localhost:8080/",
          "height": 651
        },
        "id": "hzYlxgOgjZsA",
        "outputId": "f345c488-da6a-4b03-d791-4aa773845a54"
      },
      "execution_count": null,
      "outputs": [
        {
          "output_type": "stream",
          "name": "stdout",
          "text": [
            "[[150000 330000 550000 800000]\n",
            " [120000 260000 420000 610000]\n",
            " [200000 430000 690000 990000]\n",
            " [180000 390000 630000 900000]\n",
            " [160000 345000 550000 780000]]\n"
          ]
        },
        {
          "output_type": "display_data",
          "data": {
            "text/plain": [
              "<Figure size 800x600 with 1 Axes>"
            ],
            "image/png": "[encoded data removed]"
          },
          "metadata": {}
        }
      ]
    },
    {
      "cell_type": "markdown",
      "source": [
        "##opperation on vectors"
      ],
      "metadata": {
        "id": "S9ZEt6GQoeyG"
      }
    },
    {
      "cell_type": "code",
      "source": [
        "vector1 = np.array([1,2,3,4,5])\n",
        "vector2 = np.array([6,7,8,9,10])\n",
        "print(\" \\n Vector addition is :\", vector1 + vector2)\n",
        "print(\" \\n Multiplication vector\", vector1*vector2)"
      ],
      "metadata": {
        "colab": {
          "base_uri": "https://localhost:8080/"
        },
        "id": "dsVWBw_Sm6Cu",
        "outputId": "34234992-c7b6-48e7-8793-a858a2b63845"
      },
      "execution_count": null,
      "outputs": [
        {
          "output_type": "stream",
          "name": "stdout",
          "text": [
            " \n",
            " Vector addition is : [ 7  9 11 13 15]\n",
            " \n",
            " Multiplication vector [ 6 14 24 36 50]\n"
          ]
        }
      ]
    },
    {
      "cell_type": "markdown",
      "source": [
        "Dot product"
      ],
      "metadata": {
        "id": "3qRAWWP-pb-b"
      }
    },
    {
      "cell_type": "code",
      "source": [
        "print(\"\\n  Dot product of vectors is \" , np.dot(vector1 , vector2))"
      ],
      "metadata": {
        "colab": {
          "base_uri": "https://localhost:8080/"
        },
        "id": "SoOIS7RKpSTa",
        "outputId": "94164166-db5c-4c25-928a-8e5998a8861e"
      },
      "execution_count": null,
      "outputs": [
        {
          "output_type": "stream",
          "name": "stdout",
          "text": [
            "\n",
            "  Dot product of vectors is  130\n"
          ]
        }
      ]
    },
    {
      "cell_type": "code",
      "source": [
        "restra_type = np.array([\"tasty trolly\" , \"zipy feed\" , \"buger king\" , \"dominoz\"])\n",
        "vectroized_upper = np.vectorize(str.upper)\n",
        "print(\"Vectroize upper is \" , vectroized_upper(restra_type))\n"
      ],
      "metadata": {
        "colab": {
          "base_uri": "https://localhost:8080/"
        },
        "id": "MShKyR8zps0A",
        "outputId": "c4a4a9ea-b09b-45e7-8bc4-b47a3c8955f7"
      },
      "execution_count": null,
      "outputs": [
        {
          "output_type": "stream",
          "name": "stdout",
          "text": [
            "Vectroize upper is  ['TASTY TROLLY' 'ZIPY FEED' 'BUGER KING' 'DOMINOZ']\n"
          ]
        }
      ]
    },
    {
      "cell_type": "code",
      "source": [
        "monthly_avg = sales_data[:,1:] /12\n",
        "print(monthly_avg)"
      ],
      "metadata": {
        "colab": {
          "base_uri": "https://localhost:8080/"
        },
        "id": "Ze8MR5gwr-Kf",
        "outputId": "98e723f6-c594-41d0-9f3a-914cbc4d3dda"
      },
      "execution_count": null,
      "outputs": [
        {
          "output_type": "stream",
          "name": "stdout",
          "text": [
            "[[12500.         15000.         18333.33333333 20833.33333333]\n",
            " [10000.         11666.66666667 13333.33333333 15833.33333333]\n",
            " [16666.66666667 19166.66666667 21666.66666667 25000.        ]\n",
            " [15000.         17500.         20000.         22500.        ]\n",
            " [13333.33333333 15416.66666667 17083.33333333 19166.66666667]]\n"
          ]
        }
      ]
    },
    {
      "cell_type": "markdown",
      "source": [
        "##phase four dark mode"
      ],
      "metadata": {
        "id": "ssSr_BjmzP-B"
      }
    },
    {
      "cell_type": "code",
      "source": [
        "array1 = np.array([[1,2,3] ,[4,5,6]])\n",
        "array2 = np.random.rand(3,3)\n",
        "array3 = np.zeros((4,4))\n",
        "\n",
        "np.save('array1.npy',array1)\n",
        "np.save('array2.npy',array2)\n",
        "np.save('array3.npy',array3)\n",
        "\n",
        "loaded_array1 = np.load('array1.npy')\n",
        "print(loaded_array1)\n",
        "\n"
      ],
      "metadata": {
        "colab": {
          "base_uri": "https://localhost:8080/"
        },
        "id": "GvHktjV5sLpC",
        "outputId": "57ad2d04-9142-4fc9-b6a2-9417b15ba29c"
      },
      "execution_count": null,
      "outputs": [
        {
          "output_type": "stream",
          "name": "stdout",
          "text": [
            "[[1 2 3]\n",
            " [4 5 6]]\n"
          ]
        }
      ]
    },
    {
      "cell_type": "markdown",
      "source": [
        "convert image into dark mode"
      ],
      "metadata": {
        "id": "kcTM_d761nim"
      }
    },
    {
      "cell_type": "code",
      "source": [
        "try:\n",
        "    logo = np.load('numpy-logo.npy')\n",
        "\n",
        "    # Display\n",
        "    plt.figure(figsize=(10, 5))\n",
        "    plt.subplot(121)\n",
        "    plt.imshow(logo)\n",
        "    plt.title(\"Numpy logo\")\n",
        "    plt.grid(False)\n",
        "\n",
        "    dark_logo = 1 - logo\n",
        "\n",
        "    plt.subplot(122)\n",
        "    plt.imshow(dark_logo)\n",
        "    plt.title(\"Numpy Dark logo\")\n",
        "    plt.grid(False)\n",
        "\n",
        "except FileNotFoundError:\n",
        "    print(\"numpy logo file not found\")"
      ],
      "metadata": {
        "colab": {
          "base_uri": "https://localhost:8080/"
        },
        "id": "GbO5BcKazqBD",
        "outputId": "2f4df9d9-a874-491a-932b-ea1585370f4b"
      },
      "execution_count": null,
      "outputs": [
        {
          "output_type": "stream",
          "name": "stdout",
          "text": [
            "numpy logo file not found\n"
          ]
        }
      ]
    },
    {
      "cell_type": "markdown",
      "source": [],
      "metadata": {
        "id": "_16SAOr01z7q"
      }
    },
    {
      "cell_type": "code",
      "source": [],
      "metadata": {
        "id": "3o5Jyg4l1xm2"
      },
      "execution_count": null,
      "outputs": []
    },
    {
      "cell_type": "markdown",
      "metadata": {
        "id": "f0575ad5"
      },
      "source": [
        "# Task\n",
        "Explain how to push a Colab notebook to GitHub."
      ]
    },
    {
      "cell_type": "markdown",
      "metadata": {
        "id": "91848d5b"
      },
      "source": [
        "## Connect to github\n",
        "\n",
        "### Subtask:\n",
        "Explain how to connect your Colab notebook to GitHub.\n"
      ]
    },
    {
      "cell_type": "markdown",
      "metadata": {
        "id": "3487d560"
      },
      "source": [
        "## Save a copy on github\n",
        "\n",
        "### Subtask:\n",
        "Explain how to save the current notebook to GitHub.\n"
      ]
    },
    {
      "cell_type": "markdown",
      "metadata": {
        "id": "5a4fd8c2"
      },
      "source": [
        "## Summary:\n",
        "\n",
        "### Data Analysis Key Findings\n",
        "\n",
        "*   The process of connecting a Colab notebook to GitHub involves authorizing Google Colab to access a GitHub account through Google Accounts and granting necessary permissions.\n",
        "*   Saving a copy of the current Colab notebook to GitHub is done via the \"File\" menu, selecting \"Save a copy in GitHub,\" choosing the target repository and branch, and providing a commit message.\n",
        "\n",
        "### Insights or Next Steps\n",
        "\n",
        "*   Confirming the successful save on GitHub by checking the repository ensures the notebook has been correctly uploaded.\n"
      ]
    }
  ]
}